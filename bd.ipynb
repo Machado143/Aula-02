{
 "cells": [
  {
   "cell_type": "code",
   "execution_count": 2,
   "metadata": {},
   "outputs": [
    {
     "data": {
      "text/html": [
       "Conectado com sucesso!"
      ],
      "text/plain": [
       "Conectado com sucesso!"
      ]
     },
     "metadata": {},
     "output_type": "display_data"
    }
   ],
   "source": [
    "sqlite:///db.sqlite3 "
   ]
  },
  {
   "cell_type": "code",
   "execution_count": 4,
   "metadata": {},
   "outputs": [
    {
     "data": {
      "text/html": [
       "Tabela posts criada com sucesso."
      ],
      "text/plain": [
       "Tabela posts criada com sucesso."
      ]
     },
     "metadata": {},
     "output_type": "display_data"
    }
   ],
   "source": [
    "CREATE TABLE posts (\n",
    "    id INTEGER PRIMARY KEY AUTOINCREMENT,\n",
    "    autor VARCHAR(32),\n",
    "    titulo VARCHAR(64),\n",
    "    conteudo TEXT,\n",
    "    data_postagem DATETIME DEFAULT CURRENT_TIMESTAMP\n",
    ");\n"
   ]
  },
  {
   "cell_type": "code",
   "execution_count": 5,
   "metadata": {},
   "outputs": [
    {
     "data": {
      "text/html": [
       "Dados inseridos em posts com sucesso.\n",
       "Linhas afetadas: 5."
      ],
      "text/plain": [
       "Dados inseridos em posts com sucesso.\n",
       "Linhas afetadas: 5."
      ]
     },
     "metadata": {},
     "output_type": "display_data"
    }
   ],
   "source": [
    "INSERT INTO posts (autor, titulo, conteudo) VALUES\n",
    "('Dra. Mariana', 'Paracetamol: Para que serve?', 'O paracetamol é utilizado para alívio de dores leves e febre. É indicado em casos de dor de cabeça, dor muscular, dor de dente, entre outros.'),\n",
    "('Dr. João', 'Ibuprofeno: Anti-inflamatório comum', 'O ibuprofeno é um anti-inflamatório não esteroidal indicado para inflamações, febre e dor moderada. Deve ser usado com cautela por pessoas com problemas gástricos.'),\n",
    "('Farmácia Central', 'Diferença entre genérico e similar', 'Medicamentos genéricos têm o mesmo princípio ativo, dose e forma farmacêutica que o de referência. Já os similares podem ter diferenças em excipientes e aparência.'),\n",
    "('Dra. Luiza', 'Antibióticos: uso responsável', 'Antibióticos devem ser usados apenas com prescrição médica. O uso inadequado pode gerar resistência bacteriana.'),\n",
    "('Farmacêutico Paulo', 'Antialérgicos mais comuns', 'Loratadina e cetirizina são exemplos de antialérgicos usados para tratar rinite, urticária e outras reações alérgicas.');\n"
   ]
  }
 ],
 "metadata": {
  "kernelspec": {
   "display_name": "Mysql",
   "language": "sql",
   "name": "mysql"
  },
  "language_info": {
   "file_extension": ".sql",
   "mimetype": "text/x-sh",
   "name": "sql"
  }
 },
 "nbformat": 4,
 "nbformat_minor": 2
}
