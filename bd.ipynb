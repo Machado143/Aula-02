{
 "cells": [
  {
   "cell_type": "code",
   "execution_count": 1,
   "metadata": {},
   "outputs": [
    {
     "data": {
      "text/html": [
       "Conectado com sucesso!"
      ],
      "text/plain": [
       "Conectado com sucesso!"
      ]
     },
     "metadata": {},
     "output_type": "display_data"
    }
   ],
   "source": [
    "sqlite:///db.sqlite3 "
   ]
  },
  {
   "cell_type": "code",
   "execution_count": 4,
   "metadata": {},
   "outputs": [
    {
     "data": {
      "text/html": [
       "Tabela posts criada com sucesso."
      ],
      "text/plain": [
       "Tabela posts criada com sucesso."
      ]
     },
     "metadata": {},
     "output_type": "display_data"
    }
   ],
   "source": [
    "CREATE TABLE posts (\n",
    "    id INTEGER PRIMARY KEY AUTOINCREMENT,\n",
    "    autor VARCHAR(32),\n",
    "    titulo VARCHAR(64),\n",
    "    conteudo TEXT,\n",
    "    data_postagem DATETIME DEFAULT CURRENT_TIMESTAMP\n",
    ");\n"
   ]
  },
  {
   "cell_type": "code",
   "execution_count": 13,
   "metadata": {},
   "outputs": [],
   "source": [
    "INSERT INTO posts (\n",
    "    autor, titulo, conteudo\n",
    ") \n",
    "VALUES \n",
    "    ('Augusto', 'Dicas de rebolar', 'Senta devagar'),\n",
    "    ('Matheus', 'Dicas de minecraft', 'Bedrock forever!');"
   ]
  },
  {
   "cell_type": "code",
   "execution_count": 14,
   "metadata": {},
   "outputs": [
    {
     "data": {
      "text/html": [
       "<div style='max-height: 500px; overflow: auto; width: 100%'><table border=\"1\" class=\"dataframe\">\n",
       "  <thead>\n",
       "    <tr style=\"text-align: right;\">\n",
       "      <th></th>\n",
       "      <th>id</th>\n",
       "      <th>autor</th>\n",
       "      <th>titulo</th>\n",
       "      <th>conteudo</th>\n",
       "      <th>data_postagem</th>\n",
       "    </tr>\n",
       "  </thead>\n",
       "  <tbody>\n",
       "    <tr>\n",
       "      <th>0</th>\n",
       "      <td>1</td>\n",
       "      <td>João</td>\n",
       "      <td>Meu primeiro post</td>\n",
       "      <td>Olá, mundo!</td>\n",
       "      <td>2025-08-12 13:50:12</td>\n",
       "    </tr>\n",
       "    <tr>\n",
       "      <th>1</th>\n",
       "      <td>2</td>\n",
       "      <td>João</td>\n",
       "      <td>Meu primeiro post</td>\n",
       "      <td>Olá, mundo!</td>\n",
       "      <td>2025-08-12 13:50:19</td>\n",
       "    </tr>\n",
       "    <tr>\n",
       "      <th>2</th>\n",
       "      <td>3</td>\n",
       "      <td>João</td>\n",
       "      <td>Meu primeiro post</td>\n",
       "      <td>Olá, mundo!</td>\n",
       "      <td>2025-08-12 13:50:22</td>\n",
       "    </tr>\n",
       "    <tr>\n",
       "      <th>3</th>\n",
       "      <td>4</td>\n",
       "      <td>João</td>\n",
       "      <td>Meu primeiro post</td>\n",
       "      <td>Olá, mundo!</td>\n",
       "      <td>2025-08-12 13:50:29</td>\n",
       "    </tr>\n",
       "    <tr>\n",
       "      <th>4</th>\n",
       "      <td>5</td>\n",
       "      <td>Maria</td>\n",
       "      <td>Aprendendo SQL</td>\n",
       "      <td>Hoje aprendi a criar tabelas e inserir dados.</td>\n",
       "      <td>2025-08-12 13:50:29</td>\n",
       "    </tr>\n",
       "    <tr>\n",
       "      <th>5</th>\n",
       "      <td>6</td>\n",
       "      <td>Carlos</td>\n",
       "      <td>Dicas de programação</td>\n",
       "      <td>Sempre faça backup do seu código!</td>\n",
       "      <td>2025-08-12 13:50:29</td>\n",
       "    </tr>\n",
       "    <tr>\n",
       "      <th>6</th>\n",
       "      <td>7</td>\n",
       "      <td>João</td>\n",
       "      <td>Meu primeiro post</td>\n",
       "      <td>Olá, mundo!</td>\n",
       "      <td>2025-08-12 14:07:38</td>\n",
       "    </tr>\n",
       "    <tr>\n",
       "      <th>7</th>\n",
       "      <td>8</td>\n",
       "      <td>Maria</td>\n",
       "      <td>Aprendendo SQL</td>\n",
       "      <td>Hoje aprendi a criar tabelas e inserir dados.</td>\n",
       "      <td>2025-08-12 14:07:38</td>\n",
       "    </tr>\n",
       "    <tr>\n",
       "      <th>8</th>\n",
       "      <td>9</td>\n",
       "      <td>Carlos</td>\n",
       "      <td>Dicas de programação</td>\n",
       "      <td>Sempre faça backup do seu código!</td>\n",
       "      <td>2025-08-12 14:07:38</td>\n",
       "    </tr>\n",
       "    <tr>\n",
       "      <th>9</th>\n",
       "      <td>10</td>\n",
       "      <td>João</td>\n",
       "      <td>Meu primeiro post</td>\n",
       "      <td>Olá, mundo!</td>\n",
       "      <td>2025-08-12 14:07:42</td>\n",
       "    </tr>\n",
       "    <tr>\n",
       "      <th>10</th>\n",
       "      <td>11</td>\n",
       "      <td>Maria</td>\n",
       "      <td>Aprendendo SQL</td>\n",
       "      <td>Hoje aprendi a criar tabelas e inserir dados.</td>\n",
       "      <td>2025-08-12 14:07:42</td>\n",
       "    </tr>\n",
       "    <tr>\n",
       "      <th>11</th>\n",
       "      <td>12</td>\n",
       "      <td>Carlos</td>\n",
       "      <td>Dicas de programação</td>\n",
       "      <td>Sempre faça backup do seu código!</td>\n",
       "      <td>2025-08-12 14:07:42</td>\n",
       "    </tr>\n",
       "    <tr>\n",
       "      <th>12</th>\n",
       "      <td>13</td>\n",
       "      <td>Augusto</td>\n",
       "      <td>Dicas de rebolar</td>\n",
       "      <td>Senta devagar</td>\n",
       "      <td>2025-08-12 14:07:50</td>\n",
       "    </tr>\n",
       "    <tr>\n",
       "      <th>13</th>\n",
       "      <td>14</td>\n",
       "      <td>Matheus</td>\n",
       "      <td>Dicas de minecraft</td>\n",
       "      <td>Bedrock forever!</td>\n",
       "      <td>2025-08-12 14:07:50</td>\n",
       "    </tr>\n",
       "  </tbody>\n",
       "</table></div>"
      ],
      "text/plain": [
       "    id    autor                titulo                                       conteudo        data_postagem\n",
       "0    1     João     Meu primeiro post                                    Olá, mundo!  2025-08-12 13:50:12\n",
       "1    2     João     Meu primeiro post                                    Olá, mundo!  2025-08-12 13:50:19\n",
       "2    3     João     Meu primeiro post                                    Olá, mundo!  2025-08-12 13:50:22\n",
       "3    4     João     Meu primeiro post                                    Olá, mundo!  2025-08-12 13:50:29\n",
       "4    5    Maria        Aprendendo SQL  Hoje aprendi a criar tabelas e inserir dados.  2025-08-12 13:50:29\n",
       "5    6   Carlos  Dicas de programação              Sempre faça backup do seu código!  2025-08-12 13:50:29\n",
       "6    7     João     Meu primeiro post                                    Olá, mundo!  2025-08-12 14:07:38\n",
       "7    8    Maria        Aprendendo SQL  Hoje aprendi a criar tabelas e inserir dados.  2025-08-12 14:07:38\n",
       "8    9   Carlos  Dicas de programação              Sempre faça backup do seu código!  2025-08-12 14:07:38\n",
       "9   10     João     Meu primeiro post                                    Olá, mundo!  2025-08-12 14:07:42\n",
       "10  11    Maria        Aprendendo SQL  Hoje aprendi a criar tabelas e inserir dados.  2025-08-12 14:07:42\n",
       "11  12   Carlos  Dicas de programação              Sempre faça backup do seu código!  2025-08-12 14:07:42\n",
       "12  13  Augusto      Dicas de rebolar                                  Senta devagar  2025-08-12 14:07:50\n",
       "13  14  Matheus    Dicas de minecraft                               Bedrock forever!  2025-08-12 14:07:50"
      ]
     },
     "metadata": {},
     "output_type": "display_data"
    }
   ],
   "source": [
    "SELECT * FROM posts;"
   ]
  },
  {
   "cell_type": "code",
   "execution_count": null,
   "metadata": {},
   "outputs": [],
   "source": []
  }
 ],
 "metadata": {
  "kernelspec": {
   "display_name": "Mysql",
   "language": "sql",
   "name": "mysql"
  },
  "language_info": {
   "file_extension": ".sql",
   "mimetype": "text/x-sh",
   "name": "sql"
  }
 },
 "nbformat": 4,
 "nbformat_minor": 2
}
