{
 "cells": [
  {
   "cell_type": "code",
   "execution_count": 1,
   "metadata": {},
   "outputs": [
    {
     "data": {
      "text/html": [
       "Conectado com sucesso!"
      ],
      "text/plain": [
       "Conectado com sucesso!"
      ]
     },
     "metadata": {},
     "output_type": "display_data"
    }
   ],
   "source": [
    "sqlite:///db.sqlite3 \n"
   ]
  },
  {
   "cell_type": "code",
   "execution_count": 3,
   "metadata": {},
   "outputs": [
    {
     "data": {
      "text/html": [
       "<div class=\"highlight\" style=\"background: #282a36\"><p style=\"max-width: 120ch;overflow-wrap: break-word;text-align:left\"><span style=\"color: #F55\">ERROR</span><span style=\"color: #F8F8F2\">: (sqlite3.OperationalError) table posts already exists</span>\n",
       "<br>\n",
       "<br><span style=\"color: #F8F8F2\">    id INTEGER PRIMARY KEY AUTOINCREMENT,</span>\n",
       "<br><span style=\"color: #F8F8F2\">    autor VARCHAR(32),</span>\n",
       "<br><span style=\"color: #F8F8F2\">    titulo VARCHAR(64),</span>\n",
       "<br><span style=\"color: #F8F8F2\">    conteudo TEXT,</span>\n",
       "<br><span style=\"color: #F8F8F2\">    data_postagem DATETIME DEFAULT CURRENT_TIMESTAMP</span>\n",
       "<br><span style=\"color: #F8F8F2\">)]</span>\n",
       "<br></p></div>\n"
      ],
      "text/plain": [
       "\u001b[04m\u001b[91m(\u001b[39;49;00m\u001b[04m\u001b[91ms\u001b[39;49;00m\u001b[04m\u001b[91mq\u001b[39;49;00m\u001b[04m\u001b[91ml\u001b[39;49;00m\u001b[04m\u001b[91mi\u001b[39;49;00m\u001b[04m\u001b[91mt\u001b[39;49;00m\u001b[04m\u001b[91me\u001b[39;49;00m\u001b[04m\u001b[91m3\u001b[39;49;00m\u001b[04m\u001b[91m.\u001b[39;49;00m\u001b[04m\u001b[91mO\u001b[39;49;00m\u001b[04m\u001b[91mp\u001b[39;49;00m\u001b[04m\u001b[91me\u001b[39;49;00m\u001b[04m\u001b[91mr\u001b[39;49;00m\u001b[04m\u001b[91ma\u001b[39;49;00m\u001b[04m\u001b[91mt\u001b[39;49;00m\u001b[04m\u001b[91mi\u001b[39;49;00m\u001b[04m\u001b[91mo\u001b[39;49;00m\u001b[04m\u001b[91mn\u001b[39;49;00m\u001b[04m\u001b[91ma\u001b[39;49;00m\u001b[04m\u001b[91ml\u001b[39;49;00m\u001b[04m\u001b[91mE\u001b[39;49;00m\u001b[04m\u001b[91mr\u001b[39;49;00m\u001b[04m\u001b[91mr\u001b[39;49;00m\u001b[04m\u001b[91mo\u001b[39;49;00m\u001b[04m\u001b[91mr\u001b[39;49;00m\u001b[04m\u001b[91m)\u001b[39;49;00m\u001b[04m\u001b[91m \u001b[39;49;00m\u001b[04m\u001b[91mt\u001b[39;49;00m\u001b[04m\u001b[91ma\u001b[39;49;00m\u001b[04m\u001b[91mb\u001b[39;49;00m\u001b[04m\u001b[91ml\u001b[39;49;00m\u001b[04m\u001b[91me\u001b[39;49;00m\u001b[04m\u001b[91m \u001b[39;49;00m\u001b[04m\u001b[91mp\u001b[39;49;00m\u001b[04m\u001b[91mo\u001b[39;49;00m\u001b[04m\u001b[91ms\u001b[39;49;00m\u001b[04m\u001b[91mt\u001b[39;49;00m\u001b[04m\u001b[91ms\u001b[39;49;00m\u001b[04m\u001b[91m \u001b[39;49;00m\u001b[04m\u001b[91ma\u001b[39;49;00m\u001b[04m\u001b[91ml\u001b[39;49;00m\u001b[04m\u001b[91mr\u001b[39;49;00m\u001b[04m\u001b[91me\u001b[39;49;00m\u001b[04m\u001b[91ma\u001b[39;49;00m\u001b[04m\u001b[91md\u001b[39;49;00m\u001b[04m\u001b[91my\u001b[39;49;00m\u001b[04m\u001b[91m \u001b[39;49;00m\u001b[04m\u001b[91me\u001b[39;49;00m\u001b[04m\u001b[91mx\u001b[39;49;00m\u001b[04m\u001b[91mi\u001b[39;49;00m\u001b[04m\u001b[91ms\u001b[39;49;00m\u001b[04m\u001b[91mt\u001b[39;49;00m\u001b[04m\u001b[91ms\u001b[39;49;00m\u001b[37m\u001b[39;49;00m\n",
       "\u001b[37m\u001b[39;49;00m\n",
       "\u001b[04m\u001b[91m \u001b[39;49;00m\u001b[04m\u001b[91m \u001b[39;49;00m\u001b[04m\u001b[91m \u001b[39;49;00m\u001b[04m\u001b[91m \u001b[39;49;00m\u001b[04m\u001b[91mi\u001b[39;49;00m\u001b[04m\u001b[91md\u001b[39;49;00m\u001b[04m\u001b[91m \u001b[39;49;00m\u001b[04m\u001b[91mI\u001b[39;49;00m\u001b[04m\u001b[91mN\u001b[39;49;00m\u001b[04m\u001b[91mT\u001b[39;49;00m\u001b[04m\u001b[91mE\u001b[39;49;00m\u001b[04m\u001b[91mG\u001b[39;49;00m\u001b[04m\u001b[91mE\u001b[39;49;00m\u001b[04m\u001b[91mR\u001b[39;49;00m\u001b[04m\u001b[91m \u001b[39;49;00m\u001b[04m\u001b[91mP\u001b[39;49;00m\u001b[04m\u001b[91mR\u001b[39;49;00m\u001b[04m\u001b[91mI\u001b[39;49;00m\u001b[04m\u001b[91mM\u001b[39;49;00m\u001b[04m\u001b[91mA\u001b[39;49;00m\u001b[04m\u001b[91mR\u001b[39;49;00m\u001b[04m\u001b[91mY\u001b[39;49;00m\u001b[04m\u001b[91m \u001b[39;49;00m\u001b[04m\u001b[91mK\u001b[39;49;00m\u001b[04m\u001b[91mE\u001b[39;49;00m\u001b[04m\u001b[91mY\u001b[39;49;00m\u001b[04m\u001b[91m \u001b[39;49;00m\u001b[04m\u001b[91mA\u001b[39;49;00m\u001b[04m\u001b[91mU\u001b[39;49;00m\u001b[04m\u001b[91mT\u001b[39;49;00m\u001b[04m\u001b[91mO\u001b[39;49;00m\u001b[04m\u001b[91mI\u001b[39;49;00m\u001b[04m\u001b[91mN\u001b[39;49;00m\u001b[04m\u001b[91mC\u001b[39;49;00m\u001b[04m\u001b[91mR\u001b[39;49;00m\u001b[04m\u001b[91mE\u001b[39;49;00m\u001b[04m\u001b[91mM\u001b[39;49;00m\u001b[04m\u001b[91mE\u001b[39;49;00m\u001b[04m\u001b[91mN\u001b[39;49;00m\u001b[04m\u001b[91mT\u001b[39;49;00m\u001b[04m\u001b[91m,\u001b[39;49;00m\u001b[37m\u001b[39;49;00m\n",
       "\u001b[04m\u001b[91m \u001b[39;49;00m\u001b[04m\u001b[91m \u001b[39;49;00m\u001b[04m\u001b[91m \u001b[39;49;00m\u001b[04m\u001b[91m \u001b[39;49;00m\u001b[04m\u001b[91ma\u001b[39;49;00m\u001b[04m\u001b[91mu\u001b[39;49;00m\u001b[04m\u001b[91mt\u001b[39;49;00m\u001b[04m\u001b[91mo\u001b[39;49;00m\u001b[04m\u001b[91mr\u001b[39;49;00m\u001b[04m\u001b[91m \u001b[39;49;00m\u001b[04m\u001b[91mV\u001b[39;49;00m\u001b[04m\u001b[91mA\u001b[39;49;00m\u001b[04m\u001b[91mR\u001b[39;49;00m\u001b[04m\u001b[91mC\u001b[39;49;00m\u001b[04m\u001b[91mH\u001b[39;49;00m\u001b[04m\u001b[91mA\u001b[39;49;00m\u001b[04m\u001b[91mR\u001b[39;49;00m\u001b[04m\u001b[91m(\u001b[39;49;00m\u001b[04m\u001b[91m3\u001b[39;49;00m\u001b[04m\u001b[91m2\u001b[39;49;00m\u001b[04m\u001b[91m)\u001b[39;49;00m\u001b[04m\u001b[91m,\u001b[39;49;00m\u001b[37m\u001b[39;49;00m\n",
       "\u001b[04m\u001b[91m \u001b[39;49;00m\u001b[04m\u001b[91m \u001b[39;49;00m\u001b[04m\u001b[91m \u001b[39;49;00m\u001b[04m\u001b[91m \u001b[39;49;00m\u001b[04m\u001b[91mt\u001b[39;49;00m\u001b[04m\u001b[91mi\u001b[39;49;00m\u001b[04m\u001b[91mt\u001b[39;49;00m\u001b[04m\u001b[91mu\u001b[39;49;00m\u001b[04m\u001b[91ml\u001b[39;49;00m\u001b[04m\u001b[91mo\u001b[39;49;00m\u001b[04m\u001b[91m \u001b[39;49;00m\u001b[04m\u001b[91mV\u001b[39;49;00m\u001b[04m\u001b[91mA\u001b[39;49;00m\u001b[04m\u001b[91mR\u001b[39;49;00m\u001b[04m\u001b[91mC\u001b[39;49;00m\u001b[04m\u001b[91mH\u001b[39;49;00m\u001b[04m\u001b[91mA\u001b[39;49;00m\u001b[04m\u001b[91mR\u001b[39;49;00m\u001b[04m\u001b[91m(\u001b[39;49;00m\u001b[04m\u001b[91m6\u001b[39;49;00m\u001b[04m\u001b[91m4\u001b[39;49;00m\u001b[04m\u001b[91m)\u001b[39;49;00m\u001b[04m\u001b[91m,\u001b[39;49;00m\u001b[37m\u001b[39;49;00m\n",
       "\u001b[04m\u001b[91m \u001b[39;49;00m\u001b[04m\u001b[91m \u001b[39;49;00m\u001b[04m\u001b[91m \u001b[39;49;00m\u001b[04m\u001b[91m \u001b[39;49;00m\u001b[04m\u001b[91mc\u001b[39;49;00m\u001b[04m\u001b[91mo\u001b[39;49;00m\u001b[04m\u001b[91mn\u001b[39;49;00m\u001b[04m\u001b[91mt\u001b[39;49;00m\u001b[04m\u001b[91me\u001b[39;49;00m\u001b[04m\u001b[91mu\u001b[39;49;00m\u001b[04m\u001b[91md\u001b[39;49;00m\u001b[04m\u001b[91mo\u001b[39;49;00m\u001b[04m\u001b[91m \u001b[39;49;00m\u001b[04m\u001b[91mT\u001b[39;49;00m\u001b[04m\u001b[91mE\u001b[39;49;00m\u001b[04m\u001b[91mX\u001b[39;49;00m\u001b[04m\u001b[91mT\u001b[39;49;00m\u001b[04m\u001b[91m,\u001b[39;49;00m\u001b[37m\u001b[39;49;00m\n",
       "\u001b[04m\u001b[91m \u001b[39;49;00m\u001b[04m\u001b[91m \u001b[39;49;00m\u001b[04m\u001b[91m \u001b[39;49;00m\u001b[04m\u001b[91m \u001b[39;49;00m\u001b[04m\u001b[91md\u001b[39;49;00m\u001b[04m\u001b[91ma\u001b[39;49;00m\u001b[04m\u001b[91mt\u001b[39;49;00m\u001b[04m\u001b[91ma\u001b[39;49;00m\u001b[04m\u001b[91m_\u001b[39;49;00m\u001b[04m\u001b[91mp\u001b[39;49;00m\u001b[04m\u001b[91mo\u001b[39;49;00m\u001b[04m\u001b[91ms\u001b[39;49;00m\u001b[04m\u001b[91mt\u001b[39;49;00m\u001b[04m\u001b[91ma\u001b[39;49;00m\u001b[04m\u001b[91mg\u001b[39;49;00m\u001b[04m\u001b[91me\u001b[39;49;00m\u001b[04m\u001b[91mm\u001b[39;49;00m\u001b[04m\u001b[91m \u001b[39;49;00m\u001b[04m\u001b[91mD\u001b[39;49;00m\u001b[04m\u001b[91mA\u001b[39;49;00m\u001b[04m\u001b[91mT\u001b[39;49;00m\u001b[04m\u001b[91mE\u001b[39;49;00m\u001b[04m\u001b[91mT\u001b[39;49;00m\u001b[04m\u001b[91mI\u001b[39;49;00m\u001b[04m\u001b[91mM\u001b[39;49;00m\u001b[04m\u001b[91mE\u001b[39;49;00m\u001b[04m\u001b[91m \u001b[39;49;00m\u001b[04m\u001b[91mD\u001b[39;49;00m\u001b[04m\u001b[91mE\u001b[39;49;00m\u001b[04m\u001b[91mF\u001b[39;49;00m\u001b[04m\u001b[91mA\u001b[39;49;00m\u001b[04m\u001b[91mU\u001b[39;49;00m\u001b[04m\u001b[91mL\u001b[39;49;00m\u001b[04m\u001b[91mT\u001b[39;49;00m\u001b[04m\u001b[91m \u001b[39;49;00m\u001b[04m\u001b[91mC\u001b[39;49;00m\u001b[04m\u001b[91mU\u001b[39;49;00m\u001b[04m\u001b[91mR\u001b[39;49;00m\u001b[04m\u001b[91mR\u001b[39;49;00m\u001b[04m\u001b[91mE\u001b[39;49;00m\u001b[04m\u001b[91mN\u001b[39;49;00m\u001b[04m\u001b[91mT\u001b[39;49;00m\u001b[04m\u001b[91m_\u001b[39;49;00m\u001b[04m\u001b[91mT\u001b[39;49;00m\u001b[04m\u001b[91mI\u001b[39;49;00m\u001b[04m\u001b[91mM\u001b[39;49;00m\u001b[04m\u001b[91mE\u001b[39;49;00m\u001b[04m\u001b[91mS\u001b[39;49;00m\u001b[04m\u001b[91mT\u001b[39;49;00m\u001b[04m\u001b[91mA\u001b[39;49;00m\u001b[04m\u001b[91mM\u001b[39;49;00m\u001b[04m\u001b[91mP\u001b[39;49;00m\u001b[37m\u001b[39;49;00m\n",
       "\u001b[04m\u001b[91m)\u001b[39;49;00m\u001b[04m\u001b[91m]\u001b[39;49;00m\u001b[37m\u001b[39;49;00m\n"
      ]
     },
     "metadata": {},
     "output_type": "display_data"
    }
   ],
   "source": [
    "CREATE TABLE posts (\n",
    "    id INTEGER PRIMARY KEY AUTOINCREMENT,\n",
    "    autor VARCHAR(32),\n",
    "    titulo VARCHAR(64),\n",
    "    conteudo TEXT,\n",
    "    data_postagem DATETIME DEFAULT CURRENT_TIMESTAMP\n",
    ");\n"
   ]
  },
  {
   "cell_type": "code",
   "execution_count": 5,
   "metadata": {},
   "outputs": [
    {
     "data": {
      "text/html": [
       "Dados inseridos em posts com sucesso.\n",
       "Linhas afetadas: 5."
      ],
      "text/plain": [
       "Dados inseridos em posts com sucesso.\n",
       "Linhas afetadas: 5."
      ]
     },
     "metadata": {},
     "output_type": "display_data"
    }
   ],
   "source": [
    "INSERT INTO posts (autor, titulo, conteudo) VALUES\n",
    "('Dra. Mariana', 'Paracetamol: Para que serve?', 'O paracetamol é utilizado para alívio de dores leves e febre. É indicado em casos de dor de cabeça, dor muscular, dor de dente, entre outros.'),\n",
    "('Dr. João', 'Ibuprofeno: Anti-inflamatório comum', 'O ibuprofeno é um anti-inflamatório não esteroidal indicado para inflamações, febre e dor moderada. Deve ser usado com cautela por pessoas com problemas gástricos.'),\n",
    "('Farmácia Central', 'Diferença entre genérico e similar', 'Medicamentos genéricos têm o mesmo princípio ativo, dose e forma farmacêutica que o de referência. Já os similares podem ter diferenças em excipientes e aparência.'),\n",
    "('Dra. Luiza', 'Antibióticos: uso responsável', 'Antibióticos devem ser usados apenas com prescrição médica. O uso inadequado pode gerar resistência bacteriana.'),\n",
    "('Farmacêutico Paulo', 'Antialérgicos mais comuns', 'Loratadina e cetirizina são exemplos de antialérgicos usados para tratar rinite, urticária e outras reações alérgicas.');\n"
   ]
  }
 ],
 "metadata": {
  "kernelspec": {
   "display_name": "Mysql",
   "language": "sql",
   "name": "mysql"
  },
  "language_info": {
   "file_extension": ".sql",
   "mimetype": "text/x-sh",
   "name": "sql"
  }
 },
 "nbformat": 4,
 "nbformat_minor": 2
}
