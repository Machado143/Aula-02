{
 "cells": [
  {
   "cell_type": "code",
   "execution_count": 1,
   "metadata": {},
   "outputs": [
    {
     "data": {
      "text/html": [
       "Conectado com sucesso!"
      ],
      "text/plain": [
       "Conectado com sucesso!"
      ]
     },
     "metadata": {},
     "output_type": "display_data"
    }
   ],
   "source": [
    "sqlite:///db.sqlite3 "
   ]
  },
  {
   "cell_type": "code",
   "execution_count": 4,
   "metadata": {},
   "outputs": [
    {
     "data": {
      "text/html": [
       "Tabela posts criada com sucesso."
      ],
      "text/plain": [
       "Tabela posts criada com sucesso."
      ]
     },
     "metadata": {},
     "output_type": "display_data"
    }
   ],
   "source": [
    "CREATE TABLE posts (\n",
    "    id INTEGER PRIMARY KEY AUTOINCREMENT,\n",
    "    autor VARCHAR(32),\n",
    "    titulo VARCHAR(64),\n",
    "    conteudo TEXT,\n",
    "    data_postagem DATETIME DEFAULT CURRENT_TIMESTAMP\n",
    ");\n"
   ]
  },
  {
   "cell_type": "code",
   "execution_count": null,
   "metadata": {},
   "outputs": [],
   "source": [
    "select * from posts"
   ]
  }
 ],
 "metadata": {
  "kernelspec": {
   "display_name": "Mysql",
   "language": "sql",
   "name": "mysql"
  },
  "language_info": {
   "file_extension": ".sql",
   "mimetype": "text/x-sh",
   "name": "sql"
  }
 },
 "nbformat": 4,
 "nbformat_minor": 2
}
